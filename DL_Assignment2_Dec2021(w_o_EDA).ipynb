{
  "nbformat": 4,
  "nbformat_minor": 0,
  "metadata": {
    "colab": {
      "name": "DL_Assignment2_Dec2021(w/o EDA).ipynb",
      "provenance": [],
      "machine_shape": "hm"
    },
    "kernelspec": {
      "name": "python3",
      "display_name": "Python 3"
    },
    "language_info": {
      "name": "python"
    },
    "accelerator": "GPU"
  },
  "cells": [
    {
      "cell_type": "code",
      "execution_count": 1,
      "metadata": {
        "colab": {
          "base_uri": "https://localhost:8080/"
        },
        "id": "fPC7c6a5gA_z",
        "outputId": "7c83c7a0-8444-4b93-a539-4e37e8116787"
      },
      "outputs": [
        {
          "output_type": "stream",
          "name": "stdout",
          "text": [
            "Fri Dec 10 18:01:13 2021       \n",
            "+-----------------------------------------------------------------------------+\n",
            "| NVIDIA-SMI 495.44       Driver Version: 460.32.03    CUDA Version: 11.2     |\n",
            "|-------------------------------+----------------------+----------------------+\n",
            "| GPU  Name        Persistence-M| Bus-Id        Disp.A | Volatile Uncorr. ECC |\n",
            "| Fan  Temp  Perf  Pwr:Usage/Cap|         Memory-Usage | GPU-Util  Compute M. |\n",
            "|                               |                      |               MIG M. |\n",
            "|===============================+======================+======================|\n",
            "|   0  Tesla P100-PCIE...  Off  | 00000000:00:04.0 Off |                    0 |\n",
            "| N/A   36C    P0    26W / 250W |      0MiB / 16280MiB |      0%      Default |\n",
            "|                               |                      |                  N/A |\n",
            "+-------------------------------+----------------------+----------------------+\n",
            "                                                                               \n",
            "+-----------------------------------------------------------------------------+\n",
            "| Processes:                                                                  |\n",
            "|  GPU   GI   CI        PID   Type   Process name                  GPU Memory |\n",
            "|        ID   ID                                                   Usage      |\n",
            "|=============================================================================|\n",
            "|  No running processes found                                                 |\n",
            "+-----------------------------------------------------------------------------+\n"
          ]
        }
      ],
      "source": [
        "gpu_info = !nvidia-smi\n",
        "gpu_info = '\\n'.join(gpu_info)\n",
        "if gpu_info.find('failed') >= 0:\n",
        "  print('Not connected to a GPU')\n",
        "else:\n",
        "  print(gpu_info)"
      ]
    },
    {
      "cell_type": "code",
      "source": [
        "from psutil import virtual_memory\n",
        "ram_gb = virtual_memory().total / 1e9\n",
        "print('Your runtime has {:.1f} gigabytes of available RAM\\n'.format(ram_gb))\n",
        "\n",
        "if ram_gb < 20:\n",
        "  print('Not using a high-RAM runtime')\n",
        "else:\n",
        "  print('You are using a high-RAM runtime!')"
      ],
      "metadata": {
        "colab": {
          "base_uri": "https://localhost:8080/"
        },
        "id": "Y-dtjYoAgXmY",
        "outputId": "ff7b85e3-5123-450f-e6db-d8d4e770cede"
      },
      "execution_count": 2,
      "outputs": [
        {
          "output_type": "stream",
          "name": "stdout",
          "text": [
            "Your runtime has 27.3 gigabytes of available RAM\n",
            "\n",
            "You are using a high-RAM runtime!\n"
          ]
        }
      ]
    },
    {
      "cell_type": "code",
      "source": [
        "import os\n",
        "import numpy as np\n",
        "import pandas as pd\n",
        "import matplotlib.pyplot as plt\n",
        "from sklearn.model_selection import train_test_split\n",
        "from sklearn.preprocessing import LabelEncoder"
      ],
      "metadata": {
        "id": "FhVthYRKgnv3"
      },
      "execution_count": 3,
      "outputs": []
    },
    {
      "cell_type": "code",
      "source": [
        "import tensorflow as tf\n",
        "import keras\n",
        "from pprint import pprint"
      ],
      "metadata": {
        "id": "yWVZ_OWXgs2d"
      },
      "execution_count": 4,
      "outputs": []
    },
    {
      "cell_type": "markdown",
      "source": [
        "Loading from Dataset folder of gdrive"
      ],
      "metadata": {
        "id": "ESuoSigshZc-"
      }
    },
    {
      "cell_type": "code",
      "source": [
        "overall_stats = pd.read_csv('/content/drive/MyDrive/Datasets/ml-100k/u.info', header=None)\n",
        "print(\"Details of users, items and ratings involved in the loaded movielens dataset: \",list(overall_stats[0]))"
      ],
      "metadata": {
        "colab": {
          "base_uri": "https://localhost:8080/"
        },
        "id": "s9ItiLTyg0Wk",
        "outputId": "323e38f3-399b-4210-e5e1-683769c21a9e"
      },
      "execution_count": 6,
      "outputs": [
        {
          "output_type": "stream",
          "name": "stdout",
          "text": [
            "Details of users, items and ratings involved in the loaded movielens dataset:  ['943 users', '1682 items', '100000 ratings']\n"
          ]
        }
      ]
    },
    {
      "cell_type": "code",
      "source": [
        "## same item id is same as movie id, item id column is renamed as movie id\n",
        "column_names1 = ['user id','movie id','rating','timestamp']\n",
        "ratings_dataset = pd.read_csv('/content/drive/MyDrive/Datasets/ml-100k/u.data', sep='\\t',header=None,names=column_names1)\n",
        "ratings_dataset.head() "
      ],
      "metadata": {
        "colab": {
          "base_uri": "https://localhost:8080/",
          "height": 206
        },
        "id": "fmMNsF6Rh0AR",
        "outputId": "b8b13e40-284c-4ec1-939e-abf88cf492ca"
      },
      "execution_count": 8,
      "outputs": [
        {
          "output_type": "execute_result",
          "data": {
            "text/html": [
              "<div>\n",
              "<style scoped>\n",
              "    .dataframe tbody tr th:only-of-type {\n",
              "        vertical-align: middle;\n",
              "    }\n",
              "\n",
              "    .dataframe tbody tr th {\n",
              "        vertical-align: top;\n",
              "    }\n",
              "\n",
              "    .dataframe thead th {\n",
              "        text-align: right;\n",
              "    }\n",
              "</style>\n",
              "<table border=\"1\" class=\"dataframe\">\n",
              "  <thead>\n",
              "    <tr style=\"text-align: right;\">\n",
              "      <th></th>\n",
              "      <th>user id</th>\n",
              "      <th>movie id</th>\n",
              "      <th>rating</th>\n",
              "      <th>timestamp</th>\n",
              "    </tr>\n",
              "  </thead>\n",
              "  <tbody>\n",
              "    <tr>\n",
              "      <th>0</th>\n",
              "      <td>196</td>\n",
              "      <td>242</td>\n",
              "      <td>3</td>\n",
              "      <td>881250949</td>\n",
              "    </tr>\n",
              "    <tr>\n",
              "      <th>1</th>\n",
              "      <td>186</td>\n",
              "      <td>302</td>\n",
              "      <td>3</td>\n",
              "      <td>891717742</td>\n",
              "    </tr>\n",
              "    <tr>\n",
              "      <th>2</th>\n",
              "      <td>22</td>\n",
              "      <td>377</td>\n",
              "      <td>1</td>\n",
              "      <td>878887116</td>\n",
              "    </tr>\n",
              "    <tr>\n",
              "      <th>3</th>\n",
              "      <td>244</td>\n",
              "      <td>51</td>\n",
              "      <td>2</td>\n",
              "      <td>880606923</td>\n",
              "    </tr>\n",
              "    <tr>\n",
              "      <th>4</th>\n",
              "      <td>166</td>\n",
              "      <td>346</td>\n",
              "      <td>1</td>\n",
              "      <td>886397596</td>\n",
              "    </tr>\n",
              "  </tbody>\n",
              "</table>\n",
              "</div>"
            ],
            "text/plain": [
              "   user id  movie id  rating  timestamp\n",
              "0      196       242       3  881250949\n",
              "1      186       302       3  891717742\n",
              "2       22       377       1  878887116\n",
              "3      244        51       2  880606923\n",
              "4      166       346       1  886397596"
            ]
          },
          "metadata": {},
          "execution_count": 8
        }
      ]
    },
    {
      "cell_type": "code",
      "source": [
        "d = 'movie id | movie title | release date | video release date | IMDb URL | unknown | Action | Adventure | Animation | Children | Comedy | Crime | Documentary | Drama | Fantasy | Film-Noir | Horror | Musical | Mystery | Romance | Sci-Fi | Thriller | War | Western'\n",
        "column_names2 = d.split(' | ')\n",
        "print(column_names2)"
      ],
      "metadata": {
        "colab": {
          "base_uri": "https://localhost:8080/"
        },
        "id": "lMsriOHNh8-E",
        "outputId": "0d2fd311-3768-4a59-c5f6-3e9388170074"
      },
      "execution_count": 9,
      "outputs": [
        {
          "output_type": "stream",
          "name": "stdout",
          "text": [
            "['movie id', 'movie title', 'release date', 'video release date', 'IMDb URL', 'unknown', 'Action', 'Adventure', 'Animation', 'Children', 'Comedy', 'Crime', 'Documentary', 'Drama', 'Fantasy', 'Film-Noir', 'Horror', 'Musical', 'Mystery', 'Romance', 'Sci-Fi', 'Thriller', 'War', 'Western']\n"
          ]
        }
      ]
    },
    {
      "cell_type": "code",
      "source": [
        "items_dataset = pd.read_csv('/content/drive/MyDrive/Datasets/ml-100k/u.item', sep='|',header=None,names=column_names2,encoding='latin-1')\n",
        "items_dataset.head()"
      ],
      "metadata": {
        "colab": {
          "base_uri": "https://localhost:8080/",
          "height": 382
        },
        "id": "RGNGiftgiOya",
        "outputId": "8bf4ee60-335d-4e0b-cb97-d808360ab963"
      },
      "execution_count": 10,
      "outputs": [
        {
          "output_type": "execute_result",
          "data": {
            "text/html": [
              "<div>\n",
              "<style scoped>\n",
              "    .dataframe tbody tr th:only-of-type {\n",
              "        vertical-align: middle;\n",
              "    }\n",
              "\n",
              "    .dataframe tbody tr th {\n",
              "        vertical-align: top;\n",
              "    }\n",
              "\n",
              "    .dataframe thead th {\n",
              "        text-align: right;\n",
              "    }\n",
              "</style>\n",
              "<table border=\"1\" class=\"dataframe\">\n",
              "  <thead>\n",
              "    <tr style=\"text-align: right;\">\n",
              "      <th></th>\n",
              "      <th>movie id</th>\n",
              "      <th>movie title</th>\n",
              "      <th>release date</th>\n",
              "      <th>video release date</th>\n",
              "      <th>IMDb URL</th>\n",
              "      <th>unknown</th>\n",
              "      <th>Action</th>\n",
              "      <th>Adventure</th>\n",
              "      <th>Animation</th>\n",
              "      <th>Children</th>\n",
              "      <th>Comedy</th>\n",
              "      <th>Crime</th>\n",
              "      <th>Documentary</th>\n",
              "      <th>Drama</th>\n",
              "      <th>Fantasy</th>\n",
              "      <th>Film-Noir</th>\n",
              "      <th>Horror</th>\n",
              "      <th>Musical</th>\n",
              "      <th>Mystery</th>\n",
              "      <th>Romance</th>\n",
              "      <th>Sci-Fi</th>\n",
              "      <th>Thriller</th>\n",
              "      <th>War</th>\n",
              "      <th>Western</th>\n",
              "    </tr>\n",
              "  </thead>\n",
              "  <tbody>\n",
              "    <tr>\n",
              "      <th>0</th>\n",
              "      <td>1</td>\n",
              "      <td>Toy Story (1995)</td>\n",
              "      <td>01-Jan-1995</td>\n",
              "      <td>NaN</td>\n",
              "      <td>http://us.imdb.com/M/title-exact?Toy%20Story%2...</td>\n",
              "      <td>0</td>\n",
              "      <td>0</td>\n",
              "      <td>0</td>\n",
              "      <td>1</td>\n",
              "      <td>1</td>\n",
              "      <td>1</td>\n",
              "      <td>0</td>\n",
              "      <td>0</td>\n",
              "      <td>0</td>\n",
              "      <td>0</td>\n",
              "      <td>0</td>\n",
              "      <td>0</td>\n",
              "      <td>0</td>\n",
              "      <td>0</td>\n",
              "      <td>0</td>\n",
              "      <td>0</td>\n",
              "      <td>0</td>\n",
              "      <td>0</td>\n",
              "      <td>0</td>\n",
              "    </tr>\n",
              "    <tr>\n",
              "      <th>1</th>\n",
              "      <td>2</td>\n",
              "      <td>GoldenEye (1995)</td>\n",
              "      <td>01-Jan-1995</td>\n",
              "      <td>NaN</td>\n",
              "      <td>http://us.imdb.com/M/title-exact?GoldenEye%20(...</td>\n",
              "      <td>0</td>\n",
              "      <td>1</td>\n",
              "      <td>1</td>\n",
              "      <td>0</td>\n",
              "      <td>0</td>\n",
              "      <td>0</td>\n",
              "      <td>0</td>\n",
              "      <td>0</td>\n",
              "      <td>0</td>\n",
              "      <td>0</td>\n",
              "      <td>0</td>\n",
              "      <td>0</td>\n",
              "      <td>0</td>\n",
              "      <td>0</td>\n",
              "      <td>0</td>\n",
              "      <td>0</td>\n",
              "      <td>1</td>\n",
              "      <td>0</td>\n",
              "      <td>0</td>\n",
              "    </tr>\n",
              "    <tr>\n",
              "      <th>2</th>\n",
              "      <td>3</td>\n",
              "      <td>Four Rooms (1995)</td>\n",
              "      <td>01-Jan-1995</td>\n",
              "      <td>NaN</td>\n",
              "      <td>http://us.imdb.com/M/title-exact?Four%20Rooms%...</td>\n",
              "      <td>0</td>\n",
              "      <td>0</td>\n",
              "      <td>0</td>\n",
              "      <td>0</td>\n",
              "      <td>0</td>\n",
              "      <td>0</td>\n",
              "      <td>0</td>\n",
              "      <td>0</td>\n",
              "      <td>0</td>\n",
              "      <td>0</td>\n",
              "      <td>0</td>\n",
              "      <td>0</td>\n",
              "      <td>0</td>\n",
              "      <td>0</td>\n",
              "      <td>0</td>\n",
              "      <td>0</td>\n",
              "      <td>1</td>\n",
              "      <td>0</td>\n",
              "      <td>0</td>\n",
              "    </tr>\n",
              "    <tr>\n",
              "      <th>3</th>\n",
              "      <td>4</td>\n",
              "      <td>Get Shorty (1995)</td>\n",
              "      <td>01-Jan-1995</td>\n",
              "      <td>NaN</td>\n",
              "      <td>http://us.imdb.com/M/title-exact?Get%20Shorty%...</td>\n",
              "      <td>0</td>\n",
              "      <td>1</td>\n",
              "      <td>0</td>\n",
              "      <td>0</td>\n",
              "      <td>0</td>\n",
              "      <td>1</td>\n",
              "      <td>0</td>\n",
              "      <td>0</td>\n",
              "      <td>1</td>\n",
              "      <td>0</td>\n",
              "      <td>0</td>\n",
              "      <td>0</td>\n",
              "      <td>0</td>\n",
              "      <td>0</td>\n",
              "      <td>0</td>\n",
              "      <td>0</td>\n",
              "      <td>0</td>\n",
              "      <td>0</td>\n",
              "      <td>0</td>\n",
              "    </tr>\n",
              "    <tr>\n",
              "      <th>4</th>\n",
              "      <td>5</td>\n",
              "      <td>Copycat (1995)</td>\n",
              "      <td>01-Jan-1995</td>\n",
              "      <td>NaN</td>\n",
              "      <td>http://us.imdb.com/M/title-exact?Copycat%20(1995)</td>\n",
              "      <td>0</td>\n",
              "      <td>0</td>\n",
              "      <td>0</td>\n",
              "      <td>0</td>\n",
              "      <td>0</td>\n",
              "      <td>0</td>\n",
              "      <td>1</td>\n",
              "      <td>0</td>\n",
              "      <td>1</td>\n",
              "      <td>0</td>\n",
              "      <td>0</td>\n",
              "      <td>0</td>\n",
              "      <td>0</td>\n",
              "      <td>0</td>\n",
              "      <td>0</td>\n",
              "      <td>0</td>\n",
              "      <td>1</td>\n",
              "      <td>0</td>\n",
              "      <td>0</td>\n",
              "    </tr>\n",
              "  </tbody>\n",
              "</table>\n",
              "</div>"
            ],
            "text/plain": [
              "   movie id        movie title release date  ...  Thriller War  Western\n",
              "0         1   Toy Story (1995)  01-Jan-1995  ...         0   0        0\n",
              "1         2   GoldenEye (1995)  01-Jan-1995  ...         1   0        0\n",
              "2         3  Four Rooms (1995)  01-Jan-1995  ...         1   0        0\n",
              "3         4  Get Shorty (1995)  01-Jan-1995  ...         0   0        0\n",
              "4         5     Copycat (1995)  01-Jan-1995  ...         1   0        0\n",
              "\n",
              "[5 rows x 24 columns]"
            ]
          },
          "metadata": {},
          "execution_count": 10
        }
      ]
    },
    {
      "cell_type": "code",
      "source": [
        "movie_dataset = items_dataset[['movie id','movie title']]\n",
        "movie_dataset.head()"
      ],
      "metadata": {
        "colab": {
          "base_uri": "https://localhost:8080/",
          "height": 206
        },
        "id": "UnQcVkHfiXWG",
        "outputId": "e5ba634d-9f03-467c-8cba-eb9f18e755f5"
      },
      "execution_count": 11,
      "outputs": [
        {
          "output_type": "execute_result",
          "data": {
            "text/html": [
              "<div>\n",
              "<style scoped>\n",
              "    .dataframe tbody tr th:only-of-type {\n",
              "        vertical-align: middle;\n",
              "    }\n",
              "\n",
              "    .dataframe tbody tr th {\n",
              "        vertical-align: top;\n",
              "    }\n",
              "\n",
              "    .dataframe thead th {\n",
              "        text-align: right;\n",
              "    }\n",
              "</style>\n",
              "<table border=\"1\" class=\"dataframe\">\n",
              "  <thead>\n",
              "    <tr style=\"text-align: right;\">\n",
              "      <th></th>\n",
              "      <th>movie id</th>\n",
              "      <th>movie title</th>\n",
              "    </tr>\n",
              "  </thead>\n",
              "  <tbody>\n",
              "    <tr>\n",
              "      <th>0</th>\n",
              "      <td>1</td>\n",
              "      <td>Toy Story (1995)</td>\n",
              "    </tr>\n",
              "    <tr>\n",
              "      <th>1</th>\n",
              "      <td>2</td>\n",
              "      <td>GoldenEye (1995)</td>\n",
              "    </tr>\n",
              "    <tr>\n",
              "      <th>2</th>\n",
              "      <td>3</td>\n",
              "      <td>Four Rooms (1995)</td>\n",
              "    </tr>\n",
              "    <tr>\n",
              "      <th>3</th>\n",
              "      <td>4</td>\n",
              "      <td>Get Shorty (1995)</td>\n",
              "    </tr>\n",
              "    <tr>\n",
              "      <th>4</th>\n",
              "      <td>5</td>\n",
              "      <td>Copycat (1995)</td>\n",
              "    </tr>\n",
              "  </tbody>\n",
              "</table>\n",
              "</div>"
            ],
            "text/plain": [
              "   movie id        movie title\n",
              "0         1   Toy Story (1995)\n",
              "1         2   GoldenEye (1995)\n",
              "2         3  Four Rooms (1995)\n",
              "3         4  Get Shorty (1995)\n",
              "4         5     Copycat (1995)"
            ]
          },
          "metadata": {},
          "execution_count": 11
        }
      ]
    },
    {
      "cell_type": "code",
      "source": [
        "## looking at length of original items_dataset and length of unique combination of rows in items_dataset after removing movie id column\n",
        "len(items_dataset.groupby(by=column_names2[1:])),len(items_dataset)"
      ],
      "metadata": {
        "colab": {
          "base_uri": "https://localhost:8080/"
        },
        "id": "-RY8QN-9iaPc",
        "outputId": "c8ba6b2f-3ce6-4483-ab71-fc8a1269384b"
      },
      "execution_count": 12,
      "outputs": [
        {
          "output_type": "execute_result",
          "data": {
            "text/plain": [
              "(1664, 1682)"
            ]
          },
          "metadata": {},
          "execution_count": 12
        }
      ]
    },
    {
      "cell_type": "code",
      "source": [
        "merged_dataset = pd.merge(ratings_dataset, movie_dataset, how='inner', on='movie id')\n",
        "merged_dataset.head()"
      ],
      "metadata": {
        "colab": {
          "base_uri": "https://localhost:8080/",
          "height": 206
        },
        "id": "tSzRAcMTifkc",
        "outputId": "93c9d262-6f6e-4da2-c6fb-d9ed0969879d"
      },
      "execution_count": 13,
      "outputs": [
        {
          "output_type": "execute_result",
          "data": {
            "text/html": [
              "<div>\n",
              "<style scoped>\n",
              "    .dataframe tbody tr th:only-of-type {\n",
              "        vertical-align: middle;\n",
              "    }\n",
              "\n",
              "    .dataframe tbody tr th {\n",
              "        vertical-align: top;\n",
              "    }\n",
              "\n",
              "    .dataframe thead th {\n",
              "        text-align: right;\n",
              "    }\n",
              "</style>\n",
              "<table border=\"1\" class=\"dataframe\">\n",
              "  <thead>\n",
              "    <tr style=\"text-align: right;\">\n",
              "      <th></th>\n",
              "      <th>user id</th>\n",
              "      <th>movie id</th>\n",
              "      <th>rating</th>\n",
              "      <th>timestamp</th>\n",
              "      <th>movie title</th>\n",
              "    </tr>\n",
              "  </thead>\n",
              "  <tbody>\n",
              "    <tr>\n",
              "      <th>0</th>\n",
              "      <td>196</td>\n",
              "      <td>242</td>\n",
              "      <td>3</td>\n",
              "      <td>881250949</td>\n",
              "      <td>Kolya (1996)</td>\n",
              "    </tr>\n",
              "    <tr>\n",
              "      <th>1</th>\n",
              "      <td>63</td>\n",
              "      <td>242</td>\n",
              "      <td>3</td>\n",
              "      <td>875747190</td>\n",
              "      <td>Kolya (1996)</td>\n",
              "    </tr>\n",
              "    <tr>\n",
              "      <th>2</th>\n",
              "      <td>226</td>\n",
              "      <td>242</td>\n",
              "      <td>5</td>\n",
              "      <td>883888671</td>\n",
              "      <td>Kolya (1996)</td>\n",
              "    </tr>\n",
              "    <tr>\n",
              "      <th>3</th>\n",
              "      <td>154</td>\n",
              "      <td>242</td>\n",
              "      <td>3</td>\n",
              "      <td>879138235</td>\n",
              "      <td>Kolya (1996)</td>\n",
              "    </tr>\n",
              "    <tr>\n",
              "      <th>4</th>\n",
              "      <td>306</td>\n",
              "      <td>242</td>\n",
              "      <td>5</td>\n",
              "      <td>876503793</td>\n",
              "      <td>Kolya (1996)</td>\n",
              "    </tr>\n",
              "  </tbody>\n",
              "</table>\n",
              "</div>"
            ],
            "text/plain": [
              "   user id  movie id  rating  timestamp   movie title\n",
              "0      196       242       3  881250949  Kolya (1996)\n",
              "1       63       242       3  875747190  Kolya (1996)\n",
              "2      226       242       5  883888671  Kolya (1996)\n",
              "3      154       242       3  879138235  Kolya (1996)\n",
              "4      306       242       5  876503793  Kolya (1996)"
            ]
          },
          "metadata": {},
          "execution_count": 13
        }
      ]
    },
    {
      "cell_type": "code",
      "source": [
        "merged_dataset[(merged_dataset['movie title'] == 'Chasing Amy (1997)') & (merged_dataset['user id'] == 894)]"
      ],
      "metadata": {
        "colab": {
          "base_uri": "https://localhost:8080/",
          "height": 112
        },
        "id": "CMPCf-iMimkl",
        "outputId": "20cd02e8-a8e6-48fc-e140-daa9cd4ff5db"
      },
      "execution_count": 14,
      "outputs": [
        {
          "output_type": "execute_result",
          "data": {
            "text/html": [
              "<div>\n",
              "<style scoped>\n",
              "    .dataframe tbody tr th:only-of-type {\n",
              "        vertical-align: middle;\n",
              "    }\n",
              "\n",
              "    .dataframe tbody tr th {\n",
              "        vertical-align: top;\n",
              "    }\n",
              "\n",
              "    .dataframe thead th {\n",
              "        text-align: right;\n",
              "    }\n",
              "</style>\n",
              "<table border=\"1\" class=\"dataframe\">\n",
              "  <thead>\n",
              "    <tr style=\"text-align: right;\">\n",
              "      <th></th>\n",
              "      <th>user id</th>\n",
              "      <th>movie id</th>\n",
              "      <th>rating</th>\n",
              "      <th>timestamp</th>\n",
              "      <th>movie title</th>\n",
              "    </tr>\n",
              "  </thead>\n",
              "  <tbody>\n",
              "    <tr>\n",
              "      <th>4800</th>\n",
              "      <td>894</td>\n",
              "      <td>246</td>\n",
              "      <td>4</td>\n",
              "      <td>882404137</td>\n",
              "      <td>Chasing Amy (1997)</td>\n",
              "    </tr>\n",
              "    <tr>\n",
              "      <th>22340</th>\n",
              "      <td>894</td>\n",
              "      <td>268</td>\n",
              "      <td>3</td>\n",
              "      <td>879896041</td>\n",
              "      <td>Chasing Amy (1997)</td>\n",
              "    </tr>\n",
              "  </tbody>\n",
              "</table>\n",
              "</div>"
            ],
            "text/plain": [
              "       user id  movie id  rating  timestamp         movie title\n",
              "4800       894       246       4  882404137  Chasing Amy (1997)\n",
              "22340      894       268       3  879896041  Chasing Amy (1997)"
            ]
          },
          "metadata": {},
          "execution_count": 14
        }
      ]
    },
    {
      "cell_type": "code",
      "source": [
        "refined_dataset = merged_dataset.groupby(by=['user id','movie title'], as_index=False).agg({\"rating\":\"mean\"})\n",
        "\n",
        "refined_dataset.head()"
      ],
      "metadata": {
        "colab": {
          "base_uri": "https://localhost:8080/",
          "height": 206
        },
        "id": "d_Y1ULz7it67",
        "outputId": "08538fcf-38d6-458f-9ff2-5957e35185e0"
      },
      "execution_count": 15,
      "outputs": [
        {
          "output_type": "execute_result",
          "data": {
            "text/html": [
              "<div>\n",
              "<style scoped>\n",
              "    .dataframe tbody tr th:only-of-type {\n",
              "        vertical-align: middle;\n",
              "    }\n",
              "\n",
              "    .dataframe tbody tr th {\n",
              "        vertical-align: top;\n",
              "    }\n",
              "\n",
              "    .dataframe thead th {\n",
              "        text-align: right;\n",
              "    }\n",
              "</style>\n",
              "<table border=\"1\" class=\"dataframe\">\n",
              "  <thead>\n",
              "    <tr style=\"text-align: right;\">\n",
              "      <th></th>\n",
              "      <th>user id</th>\n",
              "      <th>movie title</th>\n",
              "      <th>rating</th>\n",
              "    </tr>\n",
              "  </thead>\n",
              "  <tbody>\n",
              "    <tr>\n",
              "      <th>0</th>\n",
              "      <td>1</td>\n",
              "      <td>101 Dalmatians (1996)</td>\n",
              "      <td>2.0</td>\n",
              "    </tr>\n",
              "    <tr>\n",
              "      <th>1</th>\n",
              "      <td>1</td>\n",
              "      <td>12 Angry Men (1957)</td>\n",
              "      <td>5.0</td>\n",
              "    </tr>\n",
              "    <tr>\n",
              "      <th>2</th>\n",
              "      <td>1</td>\n",
              "      <td>20,000 Leagues Under the Sea (1954)</td>\n",
              "      <td>3.0</td>\n",
              "    </tr>\n",
              "    <tr>\n",
              "      <th>3</th>\n",
              "      <td>1</td>\n",
              "      <td>2001: A Space Odyssey (1968)</td>\n",
              "      <td>4.0</td>\n",
              "    </tr>\n",
              "    <tr>\n",
              "      <th>4</th>\n",
              "      <td>1</td>\n",
              "      <td>Abyss, The (1989)</td>\n",
              "      <td>3.0</td>\n",
              "    </tr>\n",
              "  </tbody>\n",
              "</table>\n",
              "</div>"
            ],
            "text/plain": [
              "   user id                          movie title  rating\n",
              "0        1                101 Dalmatians (1996)     2.0\n",
              "1        1                  12 Angry Men (1957)     5.0\n",
              "2        1  20,000 Leagues Under the Sea (1954)     3.0\n",
              "3        1         2001: A Space Odyssey (1968)     4.0\n",
              "4        1                    Abyss, The (1989)     3.0"
            ]
          },
          "metadata": {},
          "execution_count": 15
        }
      ]
    },
    {
      "cell_type": "code",
      "source": [
        "user_enc = LabelEncoder()\n",
        "refined_dataset['user'] = user_enc.fit_transform(refined_dataset['user id'].values)\n",
        "n_users = refined_dataset['user'].nunique()"
      ],
      "metadata": {
        "id": "LYn6ZAg3iyf1"
      },
      "execution_count": 16,
      "outputs": []
    },
    {
      "cell_type": "code",
      "source": [
        "item_enc = LabelEncoder()\n",
        "refined_dataset['movie'] = item_enc.fit_transform(refined_dataset['movie title'].values)\n",
        "n_movies = refined_dataset['movie'].nunique()"
      ],
      "metadata": {
        "id": "B8xN0Qkai1rS"
      },
      "execution_count": 17,
      "outputs": []
    },
    {
      "cell_type": "code",
      "source": [
        "refined_dataset['rating'] = refined_dataset['rating'].values.astype(np.float32)\n",
        "min_rating = min(refined_dataset['rating'])\n",
        "max_rating = max(refined_dataset['rating'])\n",
        "n_users, n_movies, min_rating, max_rating"
      ],
      "metadata": {
        "colab": {
          "base_uri": "https://localhost:8080/"
        },
        "id": "iJ0ZYzGdi4jT",
        "outputId": "2f0038de-97e6-433d-ee43-68858b410a21"
      },
      "execution_count": 18,
      "outputs": [
        {
          "output_type": "execute_result",
          "data": {
            "text/plain": [
              "(943, 1664, 1.0, 5.0)"
            ]
          },
          "metadata": {},
          "execution_count": 18
        }
      ]
    },
    {
      "cell_type": "code",
      "source": [
        "refined_dataset.head()"
      ],
      "metadata": {
        "colab": {
          "base_uri": "https://localhost:8080/",
          "height": 206
        },
        "id": "TcMasSZhi54k",
        "outputId": "15fa2701-4197-4723-9b4b-b7c4eb463a20"
      },
      "execution_count": 19,
      "outputs": [
        {
          "output_type": "execute_result",
          "data": {
            "text/html": [
              "<div>\n",
              "<style scoped>\n",
              "    .dataframe tbody tr th:only-of-type {\n",
              "        vertical-align: middle;\n",
              "    }\n",
              "\n",
              "    .dataframe tbody tr th {\n",
              "        vertical-align: top;\n",
              "    }\n",
              "\n",
              "    .dataframe thead th {\n",
              "        text-align: right;\n",
              "    }\n",
              "</style>\n",
              "<table border=\"1\" class=\"dataframe\">\n",
              "  <thead>\n",
              "    <tr style=\"text-align: right;\">\n",
              "      <th></th>\n",
              "      <th>user id</th>\n",
              "      <th>movie title</th>\n",
              "      <th>rating</th>\n",
              "      <th>user</th>\n",
              "      <th>movie</th>\n",
              "    </tr>\n",
              "  </thead>\n",
              "  <tbody>\n",
              "    <tr>\n",
              "      <th>0</th>\n",
              "      <td>1</td>\n",
              "      <td>101 Dalmatians (1996)</td>\n",
              "      <td>2.0</td>\n",
              "      <td>0</td>\n",
              "      <td>2</td>\n",
              "    </tr>\n",
              "    <tr>\n",
              "      <th>1</th>\n",
              "      <td>1</td>\n",
              "      <td>12 Angry Men (1957)</td>\n",
              "      <td>5.0</td>\n",
              "      <td>0</td>\n",
              "      <td>3</td>\n",
              "    </tr>\n",
              "    <tr>\n",
              "      <th>2</th>\n",
              "      <td>1</td>\n",
              "      <td>20,000 Leagues Under the Sea (1954)</td>\n",
              "      <td>3.0</td>\n",
              "      <td>0</td>\n",
              "      <td>6</td>\n",
              "    </tr>\n",
              "    <tr>\n",
              "      <th>3</th>\n",
              "      <td>1</td>\n",
              "      <td>2001: A Space Odyssey (1968)</td>\n",
              "      <td>4.0</td>\n",
              "      <td>0</td>\n",
              "      <td>7</td>\n",
              "    </tr>\n",
              "    <tr>\n",
              "      <th>4</th>\n",
              "      <td>1</td>\n",
              "      <td>Abyss, The (1989)</td>\n",
              "      <td>3.0</td>\n",
              "      <td>0</td>\n",
              "      <td>16</td>\n",
              "    </tr>\n",
              "  </tbody>\n",
              "</table>\n",
              "</div>"
            ],
            "text/plain": [
              "   user id                          movie title  rating  user  movie\n",
              "0        1                101 Dalmatians (1996)     2.0     0      2\n",
              "1        1                  12 Angry Men (1957)     5.0     0      3\n",
              "2        1  20,000 Leagues Under the Sea (1954)     3.0     0      6\n",
              "3        1         2001: A Space Odyssey (1968)     4.0     0      7\n",
              "4        1                    Abyss, The (1989)     3.0     0     16"
            ]
          },
          "metadata": {},
          "execution_count": 19
        }
      ]
    },
    {
      "cell_type": "code",
      "source": [
        "X = refined_dataset[['user', 'movie']].values\n",
        "y = refined_dataset['rating'].values\n",
        "X_train, X_test, y_train, y_test = train_test_split(X, y, test_size=0.1, random_state=50)\n",
        "X_train.shape, X_test.shape, y_train.shape, y_test.shape"
      ],
      "metadata": {
        "colab": {
          "base_uri": "https://localhost:8080/"
        },
        "id": "aAhsQI6Qi_jR",
        "outputId": "f1f4dff2-ca74-4c89-85c6-233a4d8fe1ac"
      },
      "execution_count": 20,
      "outputs": [
        {
          "output_type": "execute_result",
          "data": {
            "text/plain": [
              "((89723, 2), (9970, 2), (89723,), (9970,))"
            ]
          },
          "metadata": {},
          "execution_count": 20
        }
      ]
    },
    {
      "cell_type": "code",
      "source": [
        "#number of factors which are to be considered by the Embedding layer\n",
        "n_factors = 150"
      ],
      "metadata": {
        "id": "eJHkcEmHjBlA"
      },
      "execution_count": 21,
      "outputs": []
    },
    {
      "cell_type": "code",
      "source": [
        "X_train_array = [X_train[:, 0], X_train[:, 1]]\n",
        "X_test_array = [X_test[:, 0], X_test[:, 1]]"
      ],
      "metadata": {
        "id": "zvVEPM1ujI7f"
      },
      "execution_count": 22,
      "outputs": []
    },
    {
      "cell_type": "code",
      "source": [
        "X_train, X_train_array, X_train_array[0].shape"
      ],
      "metadata": {
        "colab": {
          "base_uri": "https://localhost:8080/"
        },
        "id": "wQxGigR-jOK-",
        "outputId": "6bc0d5ed-8ee7-43e1-a9ca-f792408be5d4"
      },
      "execution_count": 23,
      "outputs": [
        {
          "output_type": "execute_result",
          "data": {
            "text/plain": [
              "(array([[ 180, 1152],\n",
              "        [ 487,  389],\n",
              "        [ 177,  302],\n",
              "        ...,\n",
              "        [ 431, 1588],\n",
              "        [ 232,  399],\n",
              "        [ 138,  612]]),\n",
              " [array([180, 487, 177, ..., 431, 232, 138]),\n",
              "  array([1152,  389,  302, ..., 1588,  399,  612])],\n",
              " (89723,))"
            ]
          },
          "metadata": {},
          "execution_count": 23
        }
      ]
    },
    {
      "cell_type": "code",
      "source": [
        "y_train = (y_train - min_rating)/(max_rating - min_rating)\n",
        "y_test = (y_test - min_rating)/(max_rating - min_rating)"
      ],
      "metadata": {
        "id": "YhG7Awl9jRJ_"
      },
      "execution_count": 24,
      "outputs": []
    },
    {
      "cell_type": "code",
      "source": [
        "## Initializing a input layer for users\n",
        "user = tf.keras.layers.Input(shape = (1,))\n",
        "\n",
        "## Embedding layer for n_factors of users\n",
        "u = keras.layers.embeddings.Embedding(n_users, n_factors, embeddings_initializer = 'he_normal', embeddings_regularizer = tf.keras.regularizers.l2(1e-6))(user)\n",
        "u = tf.keras.layers.Reshape((n_factors,))(u)\n",
        "\n",
        "## Initializing a input layer for movies\n",
        "movie = tf.keras.layers.Input(shape = (1,))\n",
        "\n",
        "## Embedding layer for n_factors of movies\n",
        "m = keras.layers.embeddings.Embedding(n_movies, n_factors, embeddings_initializer = 'he_normal', embeddings_regularizer=tf.keras.regularizers.l2(1e-6))(movie)\n",
        "m = tf.keras.layers.Reshape((n_factors,))(m)\n",
        "\n",
        "## stacking up both user and movie embeddings\n",
        "x = tf.keras.layers.Concatenate()([u,m])\n",
        "x = tf.keras.layers.Dropout(0.05)(x)\n",
        "\n",
        "## Adding a Dense layer to the architecture\n",
        "x = tf.keras.layers.Dense(32, kernel_initializer='he_normal')(x)\n",
        "x = tf.keras.layers.Activation(activation='relu')(x)\n",
        "x = tf.keras.layers.Dropout(0.05)(x)\n",
        "\n",
        "x = tf.keras.layers.Dense(16, kernel_initializer='he_normal')(x)\n",
        "x = tf.keras.layers.Activation(activation='relu')(x)\n",
        "x = tf.keras.layers.Dropout(0.05)(x)\n",
        "\n",
        "## Adding an Output layer with Sigmoid activation funtion which gives output between 0 and 1\n",
        "x = tf.keras.layers.Dense(9)(x)\n",
        "x = tf.keras.layers.Activation(activation='softmax')(x)\n",
        "\n",
        "## Adding a Lambda layer to convert the output to rating by scaling it with the help of available rating information\n",
        "# x = tf.keras.layers.Lambda(lambda x: x*(max_rating - min_rating) + min_rating)(x)\n",
        "\n",
        "## Defining the model\n",
        "model = tf.keras.models.Model(inputs=[user,movie], outputs=x)\n",
        "# optimizer = tf.keras.optimizers.Adam(lr=0.001)\n",
        "# optimizer = tf.keras.optimizers.RMSprop(learning_rate=0.005,\n",
        "    # rho=0.9, momentum=0.01, epsilon=1e-07)\n",
        "\n",
        "## Compiling the model\n",
        "# model.compile(loss='binary_crossentropy', optimizer = optimizer)\n",
        "# model.compile(loss='mean_squared_error', optimizer = optimizer,metrics=['accuracy'])\n",
        "model.compile(optimizer='sgd', loss=tf.keras.losses.SparseCategoricalCrossentropy(), metrics=['accuracy'])"
      ],
      "metadata": {
        "id": "xd6qHrzbjUWo"
      },
      "execution_count": 25,
      "outputs": []
    },
    {
      "cell_type": "code",
      "source": [
        "model.summary()"
      ],
      "metadata": {
        "colab": {
          "base_uri": "https://localhost:8080/"
        },
        "id": "yusj2bPBjaCE",
        "outputId": "ac88e048-ae73-4760-8c7f-44146aca0e4d"
      },
      "execution_count": 26,
      "outputs": [
        {
          "output_type": "stream",
          "name": "stdout",
          "text": [
            "Model: \"model\"\n",
            "__________________________________________________________________________________________________\n",
            " Layer (type)                   Output Shape         Param #     Connected to                     \n",
            "==================================================================================================\n",
            " input_1 (InputLayer)           [(None, 1)]          0           []                               \n",
            "                                                                                                  \n",
            " input_2 (InputLayer)           [(None, 1)]          0           []                               \n",
            "                                                                                                  \n",
            " embedding (Embedding)          (None, 1, 150)       141450      ['input_1[0][0]']                \n",
            "                                                                                                  \n",
            " embedding_1 (Embedding)        (None, 1, 150)       249600      ['input_2[0][0]']                \n",
            "                                                                                                  \n",
            " reshape (Reshape)              (None, 150)          0           ['embedding[0][0]']              \n",
            "                                                                                                  \n",
            " reshape_1 (Reshape)            (None, 150)          0           ['embedding_1[0][0]']            \n",
            "                                                                                                  \n",
            " concatenate (Concatenate)      (None, 300)          0           ['reshape[0][0]',                \n",
            "                                                                  'reshape_1[0][0]']              \n",
            "                                                                                                  \n",
            " dropout (Dropout)              (None, 300)          0           ['concatenate[0][0]']            \n",
            "                                                                                                  \n",
            " dense (Dense)                  (None, 32)           9632        ['dropout[0][0]']                \n",
            "                                                                                                  \n",
            " activation (Activation)        (None, 32)           0           ['dense[0][0]']                  \n",
            "                                                                                                  \n",
            " dropout_1 (Dropout)            (None, 32)           0           ['activation[0][0]']             \n",
            "                                                                                                  \n",
            " dense_1 (Dense)                (None, 16)           528         ['dropout_1[0][0]']              \n",
            "                                                                                                  \n",
            " activation_1 (Activation)      (None, 16)           0           ['dense_1[0][0]']                \n",
            "                                                                                                  \n",
            " dropout_2 (Dropout)            (None, 16)           0           ['activation_1[0][0]']           \n",
            "                                                                                                  \n",
            " dense_2 (Dense)                (None, 9)            153         ['dropout_2[0][0]']              \n",
            "                                                                                                  \n",
            " activation_2 (Activation)      (None, 9)            0           ['dense_2[0][0]']                \n",
            "                                                                                                  \n",
            "==================================================================================================\n",
            "Total params: 401,363\n",
            "Trainable params: 401,363\n",
            "Non-trainable params: 0\n",
            "__________________________________________________________________________________________________\n"
          ]
        }
      ]
    },
    {
      "cell_type": "code",
      "source": [
        "reduce_lr = tf.keras.callbacks.ReduceLROnPlateau(monitor='val_loss', factor=0.75, patience=3, min_lr=0.000001, verbose=1)\n",
        "\n",
        "history = model.fit(x = X_train_array, y = y_train, batch_size=128, epochs=70, verbose=1, validation_data=(X_test_array, y_test)\n",
        ",shuffle=True,callbacks=[reduce_lr])"
      ],
      "metadata": {
        "colab": {
          "base_uri": "https://localhost:8080/"
        },
        "id": "gce1HHdGjdi_",
        "outputId": "d12b1dd1-4660-489f-ee2f-9607cc140461"
      },
      "execution_count": 27,
      "outputs": [
        {
          "output_type": "stream",
          "name": "stdout",
          "text": [
            "Epoch 1/70\n",
            "701/701 [==============================] - 4s 3ms/step - loss: 0.7573 - accuracy: 0.0610 - val_loss: 0.5207 - val_accuracy: 0.0617 - lr: 0.0100\n",
            "Epoch 2/70\n",
            "701/701 [==============================] - 2s 3ms/step - loss: 0.5325 - accuracy: 0.0609 - val_loss: 0.5134 - val_accuracy: 0.0617 - lr: 0.0100\n",
            "Epoch 3/70\n",
            "701/701 [==============================] - 2s 3ms/step - loss: 0.5255 - accuracy: 0.0609 - val_loss: 0.5105 - val_accuracy: 0.0617 - lr: 0.0100\n",
            "Epoch 4/70\n",
            "701/701 [==============================] - 2s 3ms/step - loss: 0.5227 - accuracy: 0.0609 - val_loss: 0.5094 - val_accuracy: 0.0617 - lr: 0.0100\n",
            "Epoch 5/70\n",
            "701/701 [==============================] - 2s 3ms/step - loss: 0.5215 - accuracy: 0.0609 - val_loss: 0.5087 - val_accuracy: 0.0617 - lr: 0.0100\n",
            "Epoch 6/70\n",
            "701/701 [==============================] - 2s 3ms/step - loss: 0.5198 - accuracy: 0.0609 - val_loss: 0.5078 - val_accuracy: 0.0617 - lr: 0.0100\n",
            "Epoch 7/70\n",
            "701/701 [==============================] - 2s 3ms/step - loss: 0.5184 - accuracy: 0.0609 - val_loss: 0.5069 - val_accuracy: 0.0617 - lr: 0.0100\n",
            "Epoch 8/70\n",
            "701/701 [==============================] - 2s 3ms/step - loss: 0.5172 - accuracy: 0.0609 - val_loss: 0.5067 - val_accuracy: 0.0617 - lr: 0.0100\n",
            "Epoch 9/70\n",
            "701/701 [==============================] - 2s 3ms/step - loss: 0.5157 - accuracy: 0.0609 - val_loss: 0.5045 - val_accuracy: 0.0617 - lr: 0.0100\n",
            "Epoch 10/70\n",
            "701/701 [==============================] - 2s 3ms/step - loss: 0.5141 - accuracy: 0.0609 - val_loss: 0.5030 - val_accuracy: 0.0617 - lr: 0.0100\n",
            "Epoch 11/70\n",
            "701/701 [==============================] - 2s 3ms/step - loss: 0.5122 - accuracy: 0.0609 - val_loss: 0.5012 - val_accuracy: 0.0617 - lr: 0.0100\n",
            "Epoch 12/70\n",
            "701/701 [==============================] - 2s 3ms/step - loss: 0.5103 - accuracy: 0.0609 - val_loss: 0.4985 - val_accuracy: 0.0617 - lr: 0.0100\n",
            "Epoch 13/70\n",
            "701/701 [==============================] - 2s 3ms/step - loss: 0.5071 - accuracy: 0.0609 - val_loss: 0.4951 - val_accuracy: 0.0617 - lr: 0.0100\n",
            "Epoch 14/70\n",
            "701/701 [==============================] - 2s 3ms/step - loss: 0.5025 - accuracy: 0.0610 - val_loss: 0.4920 - val_accuracy: 0.0617 - lr: 0.0100\n",
            "Epoch 15/70\n",
            "701/701 [==============================] - 2s 3ms/step - loss: 0.4981 - accuracy: 0.0613 - val_loss: 0.4854 - val_accuracy: 0.0617 - lr: 0.0100\n",
            "Epoch 16/70\n",
            "701/701 [==============================] - 2s 3ms/step - loss: 0.4922 - accuracy: 0.0627 - val_loss: 0.4792 - val_accuracy: 0.0625 - lr: 0.0100\n",
            "Epoch 17/70\n",
            "701/701 [==============================] - 2s 3ms/step - loss: 0.4860 - accuracy: 0.0653 - val_loss: 0.4725 - val_accuracy: 0.0654 - lr: 0.0100\n",
            "Epoch 18/70\n",
            "701/701 [==============================] - 2s 3ms/step - loss: 0.4788 - accuracy: 0.0695 - val_loss: 0.4656 - val_accuracy: 0.0689 - lr: 0.0100\n",
            "Epoch 19/70\n",
            "701/701 [==============================] - 2s 3ms/step - loss: 0.4720 - accuracy: 0.0759 - val_loss: 0.4594 - val_accuracy: 0.0752 - lr: 0.0100\n",
            "Epoch 20/70\n",
            "701/701 [==============================] - 2s 3ms/step - loss: 0.4659 - accuracy: 0.0814 - val_loss: 0.4538 - val_accuracy: 0.0782 - lr: 0.0100\n",
            "Epoch 21/70\n",
            "701/701 [==============================] - 2s 3ms/step - loss: 0.4598 - accuracy: 0.0870 - val_loss: 0.4487 - val_accuracy: 0.0848 - lr: 0.0100\n",
            "Epoch 22/70\n",
            "701/701 [==============================] - 2s 3ms/step - loss: 0.4542 - accuracy: 0.0925 - val_loss: 0.4450 - val_accuracy: 0.0939 - lr: 0.0100\n",
            "Epoch 23/70\n",
            "701/701 [==============================] - 2s 3ms/step - loss: 0.4499 - accuracy: 0.0956 - val_loss: 0.4409 - val_accuracy: 0.0963 - lr: 0.0100\n",
            "Epoch 24/70\n",
            "701/701 [==============================] - 2s 3ms/step - loss: 0.4460 - accuracy: 0.0997 - val_loss: 0.4376 - val_accuracy: 0.0926 - lr: 0.0100\n",
            "Epoch 25/70\n",
            "701/701 [==============================] - 2s 3ms/step - loss: 0.4431 - accuracy: 0.1030 - val_loss: 0.4354 - val_accuracy: 0.0938 - lr: 0.0100\n",
            "Epoch 26/70\n",
            "701/701 [==============================] - 2s 3ms/step - loss: 0.4395 - accuracy: 0.1049 - val_loss: 0.4329 - val_accuracy: 0.1057 - lr: 0.0100\n",
            "Epoch 27/70\n",
            "701/701 [==============================] - 2s 3ms/step - loss: 0.4374 - accuracy: 0.1076 - val_loss: 0.4308 - val_accuracy: 0.1047 - lr: 0.0100\n",
            "Epoch 28/70\n",
            "701/701 [==============================] - 2s 3ms/step - loss: 0.4334 - accuracy: 0.1100 - val_loss: 0.4289 - val_accuracy: 0.1036 - lr: 0.0100\n",
            "Epoch 29/70\n",
            "701/701 [==============================] - 2s 3ms/step - loss: 0.4320 - accuracy: 0.1118 - val_loss: 0.4276 - val_accuracy: 0.1108 - lr: 0.0100\n",
            "Epoch 30/70\n",
            "701/701 [==============================] - 2s 3ms/step - loss: 0.4302 - accuracy: 0.1134 - val_loss: 0.4263 - val_accuracy: 0.1053 - lr: 0.0100\n",
            "Epoch 31/70\n",
            "701/701 [==============================] - 2s 3ms/step - loss: 0.4277 - accuracy: 0.1142 - val_loss: 0.4250 - val_accuracy: 0.1058 - lr: 0.0100\n",
            "Epoch 32/70\n",
            "701/701 [==============================] - 2s 3ms/step - loss: 0.4263 - accuracy: 0.1145 - val_loss: 0.4239 - val_accuracy: 0.1122 - lr: 0.0100\n",
            "Epoch 33/70\n",
            "701/701 [==============================] - 2s 3ms/step - loss: 0.4248 - accuracy: 0.1165 - val_loss: 0.4232 - val_accuracy: 0.1071 - lr: 0.0100\n",
            "Epoch 34/70\n",
            "701/701 [==============================] - 2s 3ms/step - loss: 0.4237 - accuracy: 0.1167 - val_loss: 0.4221 - val_accuracy: 0.1118 - lr: 0.0100\n",
            "Epoch 35/70\n",
            "701/701 [==============================] - 2s 3ms/step - loss: 0.4222 - accuracy: 0.1179 - val_loss: 0.4222 - val_accuracy: 0.1208 - lr: 0.0100\n",
            "Epoch 36/70\n",
            "701/701 [==============================] - 2s 3ms/step - loss: 0.4218 - accuracy: 0.1194 - val_loss: 0.4211 - val_accuracy: 0.1190 - lr: 0.0100\n",
            "Epoch 37/70\n",
            "701/701 [==============================] - 2s 3ms/step - loss: 0.4201 - accuracy: 0.1195 - val_loss: 0.4203 - val_accuracy: 0.1119 - lr: 0.0100\n",
            "Epoch 38/70\n",
            "701/701 [==============================] - 2s 3ms/step - loss: 0.4185 - accuracy: 0.1202 - val_loss: 0.4197 - val_accuracy: 0.1186 - lr: 0.0100\n",
            "Epoch 39/70\n",
            "701/701 [==============================] - 2s 3ms/step - loss: 0.4182 - accuracy: 0.1211 - val_loss: 0.4193 - val_accuracy: 0.1191 - lr: 0.0100\n",
            "Epoch 40/70\n",
            "701/701 [==============================] - 2s 3ms/step - loss: 0.4169 - accuracy: 0.1219 - val_loss: 0.4193 - val_accuracy: 0.1228 - lr: 0.0100\n",
            "Epoch 41/70\n",
            "701/701 [==============================] - 2s 3ms/step - loss: 0.4160 - accuracy: 0.1211 - val_loss: 0.4190 - val_accuracy: 0.1248 - lr: 0.0100\n",
            "Epoch 42/70\n",
            "701/701 [==============================] - 2s 3ms/step - loss: 0.4157 - accuracy: 0.1224 - val_loss: 0.4182 - val_accuracy: 0.1211 - lr: 0.0100\n",
            "Epoch 43/70\n",
            "701/701 [==============================] - 2s 3ms/step - loss: 0.4145 - accuracy: 0.1223 - val_loss: 0.4177 - val_accuracy: 0.1198 - lr: 0.0100\n",
            "Epoch 44/70\n",
            "701/701 [==============================] - 2s 3ms/step - loss: 0.4132 - accuracy: 0.1237 - val_loss: 0.4177 - val_accuracy: 0.1254 - lr: 0.0100\n",
            "Epoch 45/70\n",
            "701/701 [==============================] - 2s 3ms/step - loss: 0.4129 - accuracy: 0.1236 - val_loss: 0.4172 - val_accuracy: 0.1160 - lr: 0.0100\n",
            "Epoch 46/70\n",
            "701/701 [==============================] - 2s 3ms/step - loss: 0.4128 - accuracy: 0.1236 - val_loss: 0.4173 - val_accuracy: 0.1267 - lr: 0.0100\n",
            "Epoch 47/70\n",
            "701/701 [==============================] - 2s 3ms/step - loss: 0.4124 - accuracy: 0.1236 - val_loss: 0.4166 - val_accuracy: 0.1151 - lr: 0.0100\n",
            "Epoch 48/70\n",
            "701/701 [==============================] - 2s 3ms/step - loss: 0.4105 - accuracy: 0.1246 - val_loss: 0.4167 - val_accuracy: 0.1246 - lr: 0.0100\n",
            "Epoch 49/70\n",
            "701/701 [==============================] - 2s 3ms/step - loss: 0.4106 - accuracy: 0.1252 - val_loss: 0.4162 - val_accuracy: 0.1159 - lr: 0.0100\n",
            "Epoch 50/70\n",
            "701/701 [==============================] - 2s 3ms/step - loss: 0.4103 - accuracy: 0.1237 - val_loss: 0.4162 - val_accuracy: 0.1205 - lr: 0.0100\n",
            "Epoch 51/70\n",
            "701/701 [==============================] - 2s 3ms/step - loss: 0.4094 - accuracy: 0.1249 - val_loss: 0.4166 - val_accuracy: 0.1275 - lr: 0.0100\n",
            "Epoch 52/70\n",
            "701/701 [==============================] - 2s 3ms/step - loss: 0.4095 - accuracy: 0.1245 - val_loss: 0.4160 - val_accuracy: 0.1203 - lr: 0.0100\n",
            "Epoch 53/70\n",
            "701/701 [==============================] - 2s 3ms/step - loss: 0.4088 - accuracy: 0.1253 - val_loss: 0.4159 - val_accuracy: 0.1232 - lr: 0.0100\n",
            "Epoch 54/70\n",
            "701/701 [==============================] - 2s 3ms/step - loss: 0.4079 - accuracy: 0.1255 - val_loss: 0.4160 - val_accuracy: 0.1258 - lr: 0.0100\n",
            "Epoch 55/70\n",
            "701/701 [==============================] - 2s 3ms/step - loss: 0.4065 - accuracy: 0.1267 - val_loss: 0.4157 - val_accuracy: 0.1201 - lr: 0.0100\n",
            "Epoch 56/70\n",
            "701/701 [==============================] - 2s 3ms/step - loss: 0.4069 - accuracy: 0.1270 - val_loss: 0.4158 - val_accuracy: 0.1216 - lr: 0.0100\n",
            "Epoch 57/70\n",
            "701/701 [==============================] - 2s 3ms/step - loss: 0.4070 - accuracy: 0.1266 - val_loss: 0.4157 - val_accuracy: 0.1243 - lr: 0.0100\n",
            "Epoch 58/70\n",
            "701/701 [==============================] - 2s 3ms/step - loss: 0.4069 - accuracy: 0.1258 - val_loss: 0.4155 - val_accuracy: 0.1227 - lr: 0.0100\n",
            "Epoch 59/70\n",
            "701/701 [==============================] - 2s 3ms/step - loss: 0.4063 - accuracy: 0.1268 - val_loss: 0.4161 - val_accuracy: 0.1310 - lr: 0.0100\n",
            "Epoch 60/70\n",
            "701/701 [==============================] - 2s 3ms/step - loss: 0.4053 - accuracy: 0.1282 - val_loss: 0.4173 - val_accuracy: 0.1361 - lr: 0.0100\n",
            "Epoch 61/70\n",
            "701/701 [==============================] - 2s 3ms/step - loss: 0.4050 - accuracy: 0.1277 - val_loss: 0.4151 - val_accuracy: 0.1269 - lr: 0.0100\n",
            "Epoch 62/70\n",
            "701/701 [==============================] - 2s 3ms/step - loss: 0.4049 - accuracy: 0.1263 - val_loss: 0.4160 - val_accuracy: 0.1322 - lr: 0.0100\n",
            "Epoch 63/70\n",
            "701/701 [==============================] - 2s 3ms/step - loss: 0.4045 - accuracy: 0.1275 - val_loss: 0.4156 - val_accuracy: 0.1318 - lr: 0.0100\n",
            "Epoch 64/70\n",
            "701/701 [==============================] - 2s 3ms/step - loss: 0.4049 - accuracy: 0.1275 - val_loss: 0.4150 - val_accuracy: 0.1209 - lr: 0.0100\n",
            "Epoch 65/70\n",
            "701/701 [==============================] - 2s 3ms/step - loss: 0.4042 - accuracy: 0.1285 - val_loss: 0.4152 - val_accuracy: 0.1145 - lr: 0.0100\n",
            "Epoch 66/70\n",
            "701/701 [==============================] - 2s 3ms/step - loss: 0.4033 - accuracy: 0.1277 - val_loss: 0.4148 - val_accuracy: 0.1241 - lr: 0.0100\n",
            "Epoch 67/70\n",
            "701/701 [==============================] - 2s 3ms/step - loss: 0.4033 - accuracy: 0.1286 - val_loss: 0.4153 - val_accuracy: 0.1307 - lr: 0.0100\n",
            "Epoch 68/70\n",
            "701/701 [==============================] - 2s 3ms/step - loss: 0.4033 - accuracy: 0.1272 - val_loss: 0.4149 - val_accuracy: 0.1277 - lr: 0.0100\n",
            "Epoch 69/70\n",
            "701/701 [==============================] - 2s 3ms/step - loss: 0.4024 - accuracy: 0.1274 - val_loss: 0.4146 - val_accuracy: 0.1218 - lr: 0.0100\n",
            "Epoch 70/70\n",
            "701/701 [==============================] - 2s 3ms/step - loss: 0.4023 - accuracy: 0.1269 - val_loss: 0.4191 - val_accuracy: 0.1441 - lr: 0.0100\n"
          ]
        }
      ]
    },
    {
      "cell_type": "code",
      "source": [
        "plt.plot(history.history[\"loss\"][5:])\n",
        "plt.plot(history.history[\"val_loss\"][5:])\n",
        "plt.title(\"model loss\")\n",
        "plt.ylabel(\"loss\")\n",
        "plt.xlabel(\"epoch\")\n",
        "plt.legend([\"train\", \"test\"], loc=\"upper left\")\n",
        "plt.show()"
      ],
      "metadata": {
        "colab": {
          "base_uri": "https://localhost:8080/",
          "height": 295
        },
        "id": "lVC0w-t_jmbq",
        "outputId": "d48e20d2-cc6b-48b1-f0b9-db12f32c1494"
      },
      "execution_count": 28,
      "outputs": [
        {
          "output_type": "display_data",
          "data": {
            "image/png": "[encoded data removed]",
            "text/plain": [
              "<Figure size 432x288 with 1 Axes>"
            ]
          },
          "metadata": {
            "needs_background": "light"
          }
        }
      ]
    },
    {
      "cell_type": "code",
      "source": [
        "refined_dataset.head()"
      ],
      "metadata": {
        "colab": {
          "base_uri": "https://localhost:8080/",
          "height": 206
        },
        "id": "Px8B2kG_jsBv",
        "outputId": "7288e41d-ba20-448c-d6d7-d4e41de34c02"
      },
      "execution_count": 29,
      "outputs": [
        {
          "output_type": "execute_result",
          "data": {
            "text/html": [
              "<div>\n",
              "<style scoped>\n",
              "    .dataframe tbody tr th:only-of-type {\n",
              "        vertical-align: middle;\n",
              "    }\n",
              "\n",
              "    .dataframe tbody tr th {\n",
              "        vertical-align: top;\n",
              "    }\n",
              "\n",
              "    .dataframe thead th {\n",
              "        text-align: right;\n",
              "    }\n",
              "</style>\n",
              "<table border=\"1\" class=\"dataframe\">\n",
              "  <thead>\n",
              "    <tr style=\"text-align: right;\">\n",
              "      <th></th>\n",
              "      <th>user id</th>\n",
              "      <th>movie title</th>\n",
              "      <th>rating</th>\n",
              "      <th>user</th>\n",
              "      <th>movie</th>\n",
              "    </tr>\n",
              "  </thead>\n",
              "  <tbody>\n",
              "    <tr>\n",
              "      <th>0</th>\n",
              "      <td>1</td>\n",
              "      <td>101 Dalmatians (1996)</td>\n",
              "      <td>2.0</td>\n",
              "      <td>0</td>\n",
              "      <td>2</td>\n",
              "    </tr>\n",
              "    <tr>\n",
              "      <th>1</th>\n",
              "      <td>1</td>\n",
              "      <td>12 Angry Men (1957)</td>\n",
              "      <td>5.0</td>\n",
              "      <td>0</td>\n",
              "      <td>3</td>\n",
              "    </tr>\n",
              "    <tr>\n",
              "      <th>2</th>\n",
              "      <td>1</td>\n",
              "      <td>20,000 Leagues Under the Sea (1954)</td>\n",
              "      <td>3.0</td>\n",
              "      <td>0</td>\n",
              "      <td>6</td>\n",
              "    </tr>\n",
              "    <tr>\n",
              "      <th>3</th>\n",
              "      <td>1</td>\n",
              "      <td>2001: A Space Odyssey (1968)</td>\n",
              "      <td>4.0</td>\n",
              "      <td>0</td>\n",
              "      <td>7</td>\n",
              "    </tr>\n",
              "    <tr>\n",
              "      <th>4</th>\n",
              "      <td>1</td>\n",
              "      <td>Abyss, The (1989)</td>\n",
              "      <td>3.0</td>\n",
              "      <td>0</td>\n",
              "      <td>16</td>\n",
              "    </tr>\n",
              "  </tbody>\n",
              "</table>\n",
              "</div>"
            ],
            "text/plain": [
              "   user id                          movie title  rating  user  movie\n",
              "0        1                101 Dalmatians (1996)     2.0     0      2\n",
              "1        1                  12 Angry Men (1957)     5.0     0      3\n",
              "2        1  20,000 Leagues Under the Sea (1954)     3.0     0      6\n",
              "3        1         2001: A Space Odyssey (1968)     4.0     0      7\n",
              "4        1                    Abyss, The (1989)     3.0     0     16"
            ]
          },
          "metadata": {},
          "execution_count": 29
        }
      ]
    },
    {
      "cell_type": "code",
      "source": [
        "X_train_array"
      ],
      "metadata": {
        "colab": {
          "base_uri": "https://localhost:8080/"
        },
        "id": "cuCn315Sjs3o",
        "outputId": "04fdb3d6-ebab-4c50-d3be-b75531f17e22"
      },
      "execution_count": 30,
      "outputs": [
        {
          "output_type": "execute_result",
          "data": {
            "text/plain": [
              "[array([180, 487, 177, ..., 431, 232, 138]),\n",
              " array([1152,  389,  302, ..., 1588,  399,  612])]"
            ]
          },
          "metadata": {},
          "execution_count": 30
        }
      ]
    },
    {
      "cell_type": "code",
      "source": [
        "user_id = [777]\n",
        "encoded_user_id = user_enc.transform(user_id)\n",
        "\n",
        "seen_movies = list(refined_dataset[refined_dataset['user id'] == user_id[0]]['movie'])\n",
        "print(seen_movies)"
      ],
      "metadata": {
        "colab": {
          "base_uri": "https://localhost:8080/"
        },
        "id": "NSd94czkjs9s",
        "outputId": "d331d26b-f00f-4dd8-d0e8-14518d00a420"
      },
      "execution_count": 31,
      "outputs": [
        {
          "output_type": "stream",
          "name": "stdout",
          "text": [
            "[7, 55, 87, 113, 313, 337, 389, 390, 399, 411, 432, 460, 498, 528, 580, 604, 612, 643, 666, 783, 996, 1005, 1032, 1102, 1132, 1157, 1190, 1208, 1251, 1260, 1284, 1302, 1342, 1523, 1558, 1615]\n"
          ]
        }
      ]
    },
    {
      "cell_type": "code",
      "source": [
        "len(refined_dataset['movie'].unique()), min(refined_dataset['movie']), max(refined_dataset['movie'])"
      ],
      "metadata": {
        "colab": {
          "base_uri": "https://localhost:8080/"
        },
        "id": "kH3m8OJbjtFP",
        "outputId": "7d96e9c8-21f4-403c-b09b-3ec31e321a67"
      },
      "execution_count": 32,
      "outputs": [
        {
          "output_type": "execute_result",
          "data": {
            "text/plain": [
              "(1664, 0, 1663)"
            ]
          },
          "metadata": {},
          "execution_count": 32
        }
      ]
    },
    {
      "cell_type": "code",
      "source": [
        "unseen_movies = [i for i in range(min(refined_dataset['movie']), max(refined_dataset['movie'])+1) if i not in seen_movies]\n",
        "print(unseen_movies)"
      ],
      "metadata": {
        "colab": {
          "base_uri": "https://localhost:8080/"
        },
        "id": "e9yUgXj0j2wL",
        "outputId": "c4c0f2f1-01c2-496d-e1b6-aa996f776976"
      },
      "execution_count": 33,
      "outputs": [
        {
          "output_type": "stream",
          "name": "stdout",
          "text": [
            "[0, 1, 2, 3, 4, 5, 6, 8, 9, 10, 11, 12, 13, 14, 15, 16, 17, 18, 19, 20, 21, 22, 23, 24, 25, 26, 27, 28, 29, 30, 31, 32, 33, 34, 35, 36, 37, 38, 39, 40, 41, 42, 43, 44, 45, 46, 47, 48, 49, 50, 51, 52, 53, 54, 56, 57, 58, 59, 60, 61, 62, 63, 64, 65, 66, 67, 68, 69, 70, 71, 72, 73, 74, 75, 76, 77, 78, 79, 80, 81, 82, 83, 84, 85, 86, 88, 89, 90, 91, 92, 93, 94, 95, 96, 97, 98, 99, 100, 101, 102, 103, 104, 105, 106, 107, 108, 109, 110, 111, 112, 114, 115, 116, 117, 118, 119, 120, 121, 122, 123, 124, 125, 126, 127, 128, 129, 130, 131, 132, 133, 134, 135, 136, 137, 138, 139, 140, 141, 142, 143, 144, 145, 146, 147, 148, 149, 150, 151, 152, 153, 154, 155, 156, 157, 158, 159, 160, 161, 162, 163, 164, 165, 166, 167, 168, 169, 170, 171, 172, 173, 174, 175, 176, 177, 178, 179, 180, 181, 182, 183, 184, 185, 186, 187, 188, 189, 190, 191, 192, 193, 194, 195, 196, 197, 198, 199, 200, 201, 202, 203, 204, 205, 206, 207, 208, 209, 210, 211, 212, 213, 214, 215, 216, 217, 218, 219, 220, 221, 222, 223, 224, 225, 226, 227, 228, 229, 230, 231, 232, 233, 234, 235, 236, 237, 238, 239, 240, 241, 242, 243, 244, 245, 246, 247, 248, 249, 250, 251, 252, 253, 254, 255, 256, 257, 258, 259, 260, 261, 262, 263, 264, 265, 266, 267, 268, 269, 270, 271, 272, 273, 274, 275, 276, 277, 278, 279, 280, 281, 282, 283, 284, 285, 286, 287, 288, 289, 290, 291, 292, 293, 294, 295, 296, 297, 298, 299, 300, 301, 302, 303, 304, 305, 306, 307, 308, 309, 310, 311, 312, 314, 315, 316, 317, 318, 319, 320, 321, 322, 323, 324, 325, 326, 327, 328, 329, 330, 331, 332, 333, 334, 335, 336, 338, 339, 340, 341, 342, 343, 344, 345, 346, 347, 348, 349, 350, 351, 352, 353, 354, 355, 356, 357, 358, 359, 360, 361, 362, 363, 364, 365, 366, 367, 368, 369, 370, 371, 372, 373, 374, 375, 376, 377, 378, 379, 380, 381, 382, 383, 384, 385, 386, 387, 388, 391, 392, 393, 394, 395, 396, 397, 398, 400, 401, 402, 403, 404, 405, 406, 407, 408, 409, 410, 412, 413, 414, 415, 416, 417, 418, 419, 420, 421, 422, 423, 424, 425, 426, 427, 428, 429, 430, 431, 433, 434, 435, 436, 437, 438, 439, 440, 441, 442, 443, 444, 445, 446, 447, 448, 449, 450, 451, 452, 453, 454, 455, 456, 457, 458, 459, 461, 462, 463, 464, 465, 466, 467, 468, 469, 470, 471, 472, 473, 474, 475, 476, 477, 478, 479, 480, 481, 482, 483, 484, 485, 486, 487, 488, 489, 490, 491, 492, 493, 494, 495, 496, 497, 499, 500, 501, 502, 503, 504, 505, 506, 507, 508, 509, 510, 511, 512, 513, 514, 515, 516, 517, 518, 519, 520, 521, 522, 523, 524, 525, 526, 527, 529, 530, 531, 532, 533, 534, 535, 536, 537, 538, 539, 540, 541, 542, 543, 544, 545, 546, 547, 548, 549, 550, 551, 552, 553, 554, 555, 556, 557, 558, 559, 560, 561, 562, 563, 564, 565, 566, 567, 568, 569, 570, 571, 572, 573, 574, 575, 576, 577, 578, 579, 581, 582, 583, 584, 585, 586, 587, 588, 589, 590, 591, 592, 593, 594, 595, 596, 597, 598, 599, 600, 601, 602, 603, 605, 606, 607, 608, 609, 610, 611, 613, 614, 615, 616, 617, 618, 619, 620, 621, 622, 623, 624, 625, 626, 627, 628, 629, 630, 631, 632, 633, 634, 635, 636, 637, 638, 639, 640, 641, 642, 644, 645, 646, 647, 648, 649, 650, 651, 652, 653, 654, 655, 656, 657, 658, 659, 660, 661, 662, 663, 664, 665, 667, 668, 669, 670, 671, 672, 673, 674, 675, 676, 677, 678, 679, 680, 681, 682, 683, 684, 685, 686, 687, 688, 689, 690, 691, 692, 693, 694, 695, 696, 697, 698, 699, 700, 701, 702, 703, 704, 705, 706, 707, 708, 709, 710, 711, 712, 713, 714, 715, 716, 717, 718, 719, 720, 721, 722, 723, 724, 725, 726, 727, 728, 729, 730, 731, 732, 733, 734, 735, 736, 737, 738, 739, 740, 741, 742, 743, 744, 745, 746, 747, 748, 749, 750, 751, 752, 753, 754, 755, 756, 757, 758, 759, 760, 761, 762, 763, 764, 765, 766, 767, 768, 769, 770, 771, 772, 773, 774, 775, 776, 777, 778, 779, 780, 781, 782, 784, 785, 786, 787, 788, 789, 790, 791, 792, 793, 794, 795, 796, 797, 798, 799, 800, 801, 802, 803, 804, 805, 806, 807, 808, 809, 810, 811, 812, 813, 814, 815, 816, 817, 818, 819, 820, 821, 822, 823, 824, 825, 826, 827, 828, 829, 830, 831, 832, 833, 834, 835, 836, 837, 838, 839, 840, 841, 842, 843, 844, 845, 846, 847, 848, 849, 850, 851, 852, 853, 854, 855, 856, 857, 858, 859, 860, 861, 862, 863, 864, 865, 866, 867, 868, 869, 870, 871, 872, 873, 874, 875, 876, 877, 878, 879, 880, 881, 882, 883, 884, 885, 886, 887, 888, 889, 890, 891, 892, 893, 894, 895, 896, 897, 898, 899, 900, 901, 902, 903, 904, 905, 906, 907, 908, 909, 910, 911, 912, 913, 914, 915, 916, 917, 918, 919, 920, 921, 922, 923, 924, 925, 926, 927, 928, 929, 930, 931, 932, 933, 934, 935, 936, 937, 938, 939, 940, 941, 942, 943, 944, 945, 946, 947, 948, 949, 950, 951, 952, 953, 954, 955, 956, 957, 958, 959, 960, 961, 962, 963, 964, 965, 966, 967, 968, 969, 970, 971, 972, 973, 974, 975, 976, 977, 978, 979, 980, 981, 982, 983, 984, 985, 986, 987, 988, 989, 990, 991, 992, 993, 994, 995, 997, 998, 999, 1000, 1001, 1002, 1003, 1004, 1006, 1007, 1008, 1009, 1010, 1011, 1012, 1013, 1014, 1015, 1016, 1017, 1018, 1019, 1020, 1021, 1022, 1023, 1024, 1025, 1026, 1027, 1028, 1029, 1030, 1031, 1033, 1034, 1035, 1036, 1037, 1038, 1039, 1040, 1041, 1042, 1043, 1044, 1045, 1046, 1047, 1048, 1049, 1050, 1051, 1052, 1053, 1054, 1055, 1056, 1057, 1058, 1059, 1060, 1061, 1062, 1063, 1064, 1065, 1066, 1067, 1068, 1069, 1070, 1071, 1072, 1073, 1074, 1075, 1076, 1077, 1078, 1079, 1080, 1081, 1082, 1083, 1084, 1085, 1086, 1087, 1088, 1089, 1090, 1091, 1092, 1093, 1094, 1095, 1096, 1097, 1098, 1099, 1100, 1101, 1103, 1104, 1105, 1106, 1107, 1108, 1109, 1110, 1111, 1112, 1113, 1114, 1115, 1116, 1117, 1118, 1119, 1120, 1121, 1122, 1123, 1124, 1125, 1126, 1127, 1128, 1129, 1130, 1131, 1133, 1134, 1135, 1136, 1137, 1138, 1139, 1140, 1141, 1142, 1143, 1144, 1145, 1146, 1147, 1148, 1149, 1150, 1151, 1152, 1153, 1154, 1155, 1156, 1158, 1159, 1160, 1161, 1162, 1163, 1164, 1165, 1166, 1167, 1168, 1169, 1170, 1171, 1172, 1173, 1174, 1175, 1176, 1177, 1178, 1179, 1180, 1181, 1182, 1183, 1184, 1185, 1186, 1187, 1188, 1189, 1191, 1192, 1193, 1194, 1195, 1196, 1197, 1198, 1199, 1200, 1201, 1202, 1203, 1204, 1205, 1206, 1207, 1209, 1210, 1211, 1212, 1213, 1214, 1215, 1216, 1217, 1218, 1219, 1220, 1221, 1222, 1223, 1224, 1225, 1226, 1227, 1228, 1229, 1230, 1231, 1232, 1233, 1234, 1235, 1236, 1237, 1238, 1239, 1240, 1241, 1242, 1243, 1244, 1245, 1246, 1247, 1248, 1249, 1250, 1252, 1253, 1254, 1255, 1256, 1257, 1258, 1259, 1261, 1262, 1263, 1264, 1265, 1266, 1267, 1268, 1269, 1270, 1271, 1272, 1273, 1274, 1275, 1276, 1277, 1278, 1279, 1280, 1281, 1282, 1283, 1285, 1286, 1287, 1288, 1289, 1290, 1291, 1292, 1293, 1294, 1295, 1296, 1297, 1298, 1299, 1300, 1301, 1303, 1304, 1305, 1306, 1307, 1308, 1309, 1310, 1311, 1312, 1313, 1314, 1315, 1316, 1317, 1318, 1319, 1320, 1321, 1322, 1323, 1324, 1325, 1326, 1327, 1328, 1329, 1330, 1331, 1332, 1333, 1334, 1335, 1336, 1337, 1338, 1339, 1340, 1341, 1343, 1344, 1345, 1346, 1347, 1348, 1349, 1350, 1351, 1352, 1353, 1354, 1355, 1356, 1357, 1358, 1359, 1360, 1361, 1362, 1363, 1364, 1365, 1366, 1367, 1368, 1369, 1370, 1371, 1372, 1373, 1374, 1375, 1376, 1377, 1378, 1379, 1380, 1381, 1382, 1383, 1384, 1385, 1386, 1387, 1388, 1389, 1390, 1391, 1392, 1393, 1394, 1395, 1396, 1397, 1398, 1399, 1400, 1401, 1402, 1403, 1404, 1405, 1406, 1407, 1408, 1409, 1410, 1411, 1412, 1413, 1414, 1415, 1416, 1417, 1418, 1419, 1420, 1421, 1422, 1423, 1424, 1425, 1426, 1427, 1428, 1429, 1430, 1431, 1432, 1433, 1434, 1435, 1436, 1437, 1438, 1439, 1440, 1441, 1442, 1443, 1444, 1445, 1446, 1447, 1448, 1449, 1450, 1451, 1452, 1453, 1454, 1455, 1456, 1457, 1458, 1459, 1460, 1461, 1462, 1463, 1464, 1465, 1466, 1467, 1468, 1469, 1470, 1471, 1472, 1473, 1474, 1475, 1476, 1477, 1478, 1479, 1480, 1481, 1482, 1483, 1484, 1485, 1486, 1487, 1488, 1489, 1490, 1491, 1492, 1493, 1494, 1495, 1496, 1497, 1498, 1499, 1500, 1501, 1502, 1503, 1504, 1505, 1506, 1507, 1508, 1509, 1510, 1511, 1512, 1513, 1514, 1515, 1516, 1517, 1518, 1519, 1520, 1521, 1522, 1524, 1525, 1526, 1527, 1528, 1529, 1530, 1531, 1532, 1533, 1534, 1535, 1536, 1537, 1538, 1539, 1540, 1541, 1542, 1543, 1544, 1545, 1546, 1547, 1548, 1549, 1550, 1551, 1552, 1553, 1554, 1555, 1556, 1557, 1559, 1560, 1561, 1562, 1563, 1564, 1565, 1566, 1567, 1568, 1569, 1570, 1571, 1572, 1573, 1574, 1575, 1576, 1577, 1578, 1579, 1580, 1581, 1582, 1583, 1584, 1585, 1586, 1587, 1588, 1589, 1590, 1591, 1592, 1593, 1594, 1595, 1596, 1597, 1598, 1599, 1600, 1601, 1602, 1603, 1604, 1605, 1606, 1607, 1608, 1609, 1610, 1611, 1612, 1613, 1614, 1616, 1617, 1618, 1619, 1620, 1621, 1622, 1623, 1624, 1625, 1626, 1627, 1628, 1629, 1630, 1631, 1632, 1633, 1634, 1635, 1636, 1637, 1638, 1639, 1640, 1641, 1642, 1643, 1644, 1645, 1646, 1647, 1648, 1649, 1650, 1651, 1652, 1653, 1654, 1655, 1656, 1657, 1658, 1659, 1660, 1661, 1662, 1663]\n"
          ]
        }
      ]
    },
    {
      "cell_type": "code",
      "source": [
        "len(unseen_movies) + len(seen_movies)"
      ],
      "metadata": {
        "colab": {
          "base_uri": "https://localhost:8080/"
        },
        "id": "2InoGb27j27g",
        "outputId": "bcc4ed8a-3919-468a-8fbc-9a8ff73a1833"
      },
      "execution_count": 34,
      "outputs": [
        {
          "output_type": "execute_result",
          "data": {
            "text/plain": [
              "1664"
            ]
          },
          "metadata": {},
          "execution_count": 34
        }
      ]
    },
    {
      "cell_type": "code",
      "source": [
        "model_input = [np.asarray(list(encoded_user_id)*len(unseen_movies)), np.asarray(unseen_movies)]\n",
        "len(model_input), len(model_input[0])"
      ],
      "metadata": {
        "colab": {
          "base_uri": "https://localhost:8080/"
        },
        "id": "9EqB0e1_j8S9",
        "outputId": "fcd40ae5-4fb8-4369-d0a6-6103a2b32314"
      },
      "execution_count": 35,
      "outputs": [
        {
          "output_type": "execute_result",
          "data": {
            "text/plain": [
              "(2, 1628)"
            ]
          },
          "metadata": {},
          "execution_count": 35
        }
      ]
    },
    {
      "cell_type": "code",
      "source": [
        "predicted_ratings = model.predict(model_input)"
      ],
      "metadata": {
        "id": "L4auelgHkAGs"
      },
      "execution_count": 36,
      "outputs": []
    },
    {
      "cell_type": "code",
      "source": [
        "print(predicted_ratings.shape)"
      ],
      "metadata": {
        "colab": {
          "base_uri": "https://localhost:8080/"
        },
        "id": "W0UJExKUkCsR",
        "outputId": "fbf1880c-41d0-49f0-807e-2b68696c9f49"
      },
      "execution_count": 37,
      "outputs": [
        {
          "output_type": "stream",
          "name": "stdout",
          "text": [
            "(1628, 9)\n"
          ]
        }
      ]
    },
    {
      "cell_type": "code",
      "source": [
        "print(predicted_ratings)"
      ],
      "metadata": {
        "colab": {
          "base_uri": "https://localhost:8080/"
        },
        "id": "Y5txlA18kFji",
        "outputId": "ee08e013-26a3-42ed-e49e-ea577d9946a8"
      },
      "execution_count": 38,
      "outputs": [
        {
          "output_type": "stream",
          "name": "stdout",
          "text": [
            "[[7.6537412e-01 2.3459174e-01 6.3935886e-06 ... 4.8170891e-06\n",
            "  1.5517007e-06 4.1440253e-06]\n",
            " [6.1599791e-01 3.8395607e-01 8.9909108e-06 ... 6.8740205e-06\n",
            "  2.1236638e-06 5.6591084e-06]\n",
            " [9.2292523e-01 7.7064216e-02 1.6898146e-06 ... 1.5018360e-06\n",
            "  4.5335281e-07 1.2361379e-06]\n",
            " ...\n",
            " [6.9707578e-01 3.0289426e-01 5.6210315e-06 ... 4.5013735e-06\n",
            "  1.3166036e-06 3.6505560e-06]\n",
            " [7.4296403e-01 2.5699940e-01 6.6024049e-06 ... 5.6138770e-06\n",
            "  1.6659665e-06 4.6068790e-06]\n",
            " [6.6675401e-01 3.3319473e-01 9.4465395e-06 ... 7.7842187e-06\n",
            "  2.4244925e-06 6.5285731e-06]]\n"
          ]
        }
      ]
    },
    {
      "cell_type": "code",
      "source": [
        "predicted_ratings = np.max(predicted_ratings, axis=1)\n",
        "predicted_ratings"
      ],
      "metadata": {
        "colab": {
          "base_uri": "https://localhost:8080/"
        },
        "id": "CNBvCaogkPmR",
        "outputId": "43874509-21b5-448a-dbc0-4f880edd7acf"
      },
      "execution_count": 39,
      "outputs": [
        {
          "output_type": "execute_result",
          "data": {
            "text/plain": [
              "array([0.7653741 , 0.6159979 , 0.92292523, ..., 0.6970758 , 0.742964  ,\n",
              "       0.666754  ], dtype=float32)"
            ]
          },
          "metadata": {},
          "execution_count": 39
        }
      ]
    },
    {
      "cell_type": "code",
      "source": [
        "predicted_ratings.shape"
      ],
      "metadata": {
        "colab": {
          "base_uri": "https://localhost:8080/"
        },
        "id": "S8_Pz0q0kVj8",
        "outputId": "67115ab3-11e4-4e5d-8d5c-67f42662330f"
      },
      "execution_count": 40,
      "outputs": [
        {
          "output_type": "execute_result",
          "data": {
            "text/plain": [
              "(1628,)"
            ]
          },
          "metadata": {},
          "execution_count": 40
        }
      ]
    },
    {
      "cell_type": "code",
      "source": [
        "sorted_index = np.argsort(predicted_ratings)[::-1]\n",
        "print(sorted_index)"
      ],
      "metadata": {
        "colab": {
          "base_uri": "https://localhost:8080/"
        },
        "id": "OszcN5DkkZJS",
        "outputId": "9123b18c-040c-41d4-bdfa-31b572c55a56"
      },
      "execution_count": 41,
      "outputs": [
        {
          "output_type": "stream",
          "name": "stdout",
          "text": [
            "[1445  135  962 ... 1483 1331  152]\n"
          ]
        }
      ]
    },
    {
      "cell_type": "code",
      "source": [
        "recommended_movies = item_enc.inverse_transform(sorted_index)\n",
        "recommended_movies"
      ],
      "metadata": {
        "colab": {
          "base_uri": "https://localhost:8080/"
        },
        "id": "MwPKu1CRkaXf",
        "outputId": "c482126d-92b5-4a24-cfe0-7d6a64695db9"
      },
      "execution_count": 42,
      "outputs": [
        {
          "output_type": "execute_result",
          "data": {
            "text/plain": [
              "array(['Sword in the Stone, The (1963)', 'Baton Rouge (1988)',\n",
              "       'Meet Wally Sparks (1997)', ..., 'Three Caballeros, The (1945)',\n",
              "       'Simple Twist of Fate, A (1994)', 'Belle de jour (1967)'],\n",
              "      dtype=object)"
            ]
          },
          "metadata": {},
          "execution_count": 42
        }
      ]
    },
    {
      "cell_type": "code",
      "source": [
        "from pprint import pprint\n",
        "pprint(list(recommended_movies[:20]))"
      ],
      "metadata": {
        "colab": {
          "base_uri": "https://localhost:8080/"
        },
        "id": "JE5mX8Lykadz",
        "outputId": "1a751460-3b75-404d-d84c-6d05225c59dd"
      },
      "execution_count": 43,
      "outputs": [
        {
          "output_type": "stream",
          "name": "stdout",
          "text": [
            "['Sword in the Stone, The (1963)',\n",
            " 'Baton Rouge (1988)',\n",
            " 'Meet Wally Sparks (1997)',\n",
            " 'Striking Distance (1993)',\n",
            " 'Conspiracy Theory (1997)',\n",
            " 'Good Will Hunting (1997)',\n",
            " 'In the Line of Duty 2 (1987)',\n",
            " 'Saint, The (1997)',\n",
            " 'Jaws 2 (1978)',\n",
            " 'Lady of Burlesque (1943)',\n",
            " 'Diva (1981)',\n",
            " 'This Is Spinal Tap (1984)',\n",
            " 'Grosse Fatigue (1994)',\n",
            " \"Singin' in the Rain (1952)\",\n",
            " 'Welcome to the Dollhouse (1995)',\n",
            " 'Two or Three Things I Know About Her (1966)',\n",
            " 'Basic Instinct (1992)',\n",
            " 'Smoke (1995)',\n",
            " 'Phat Beach (1996)',\n",
            " 'When We Were Kings (1996)']\n"
          ]
        }
      ]
    },
    {
      "cell_type": "code",
      "source": [
        "def recommender_system(user_id, model, n_movies):\n",
        "\n",
        "  print(\"\")\n",
        "  print(\"Movie seen by the User:\")\n",
        "  pprint(list(refined_dataset[refined_dataset['user id'] == user_id]['movie title']))\n",
        "  print(\"\")\n",
        "\n",
        "  encoded_user_id = user_enc.transform([user_id])\n",
        "\n",
        "  seen_movies = list(refined_dataset[refined_dataset['user id'] == user_id]['movie'])\n",
        "  unseen_movies = [i for i in range(min(refined_dataset['movie']), max(refined_dataset['movie'])+1) if i not in seen_movies]\n",
        "  model_input = [np.asarray(list(encoded_user_id)*len(unseen_movies)), np.asarray(unseen_movies)]\n",
        "  predicted_ratings = model.predict(model_input)\n",
        "  predicted_ratings = np.max(predicted_ratings, axis=1)\n",
        "  sorted_index = np.argsort(predicted_ratings)[::-1]\n",
        "  recommended_movies = item_enc.inverse_transform(sorted_index)\n",
        "  print(\"---------------------------------------------------------------------------------\")\n",
        "  print(\"Top \"+str(n_movies)+\" Movie recommendations for the User \"+str(user_id)+ \" are:\")\n",
        "  pprint(list(recommended_movies[:n_movies]))"
      ],
      "metadata": {
        "id": "hLPXlJT6kaoY"
      },
      "execution_count": 44,
      "outputs": []
    },
    {
      "cell_type": "code",
      "source": [
        "print(\"Enter user id\")\n",
        "user_id= int(input())\n",
        "\n",
        "print(\"Enter number of movies to be recommended:\")\n",
        "n_movies = int(input())\n",
        "recommender_system(user_id,model,n_movies)"
      ],
      "metadata": {
        "colab": {
          "base_uri": "https://localhost:8080/"
        },
        "id": "JxQHbCowkl0s",
        "outputId": "d7ad86d9-7a0f-41e5-aaac-082cee3be2ee"
      },
      "execution_count": 45,
      "outputs": [
        {
          "output_type": "stream",
          "name": "stdout",
          "text": [
            "Enter user id\n",
            "756\n",
            "Enter number of movies to be recommended:\n",
            "10\n",
            "\n",
            "Movie seen by the User:\n",
            "['101 Dalmatians (1996)',\n",
            " '12 Angry Men (1957)',\n",
            " '20,000 Leagues Under the Sea (1954)',\n",
            " '2001: A Space Odyssey (1968)',\n",
            " 'Adventures of Pinocchio, The (1996)',\n",
            " 'Air Force One (1997)',\n",
            " 'Aladdin (1992)',\n",
            " 'Alice in Wonderland (1951)',\n",
            " 'Alien (1979)',\n",
            " 'Aliens (1986)',\n",
            " 'Babe (1995)',\n",
            " 'Basic Instinct (1992)',\n",
            " 'Batman (1989)',\n",
            " 'Beauty and the Beast (1991)',\n",
            " 'Believers, The (1987)',\n",
            " 'Belle de jour (1967)',\n",
            " 'Blade Runner (1982)',\n",
            " 'Braveheart (1995)',\n",
            " 'Burnt By the Sun (1994)',\n",
            " 'Butch Cassidy and the Sundance Kid (1969)',\n",
            " 'Cable Guy, The (1996)',\n",
            " 'Chain Reaction (1996)',\n",
            " 'Cinderella (1950)',\n",
            " 'City of Lost Children, The (1995)',\n",
            " 'Clear and Present Danger (1994)',\n",
            " 'Clueless (1995)',\n",
            " 'Contact (1997)',\n",
            " 'Corrina, Corrina (1994)',\n",
            " 'Crash (1996)',\n",
            " 'D3: The Mighty Ducks (1996)',\n",
            " 'Dances with Wolves (1990)',\n",
            " \"Dante's Peak (1997)\",\n",
            " 'Dead Man Walking (1995)',\n",
            " 'Delicatessen (1991)',\n",
            " \"Devil's Own, The (1997)\",\n",
            " 'Die Hard 2 (1990)',\n",
            " 'Die Hard: With a Vengeance (1995)',\n",
            " 'Dirty Dancing (1987)',\n",
            " 'Dumbo (1941)',\n",
            " 'E.T. the Extra-Terrestrial (1982)',\n",
            " 'Evita (1996)',\n",
            " 'Fantasia (1940)',\n",
            " 'Fargo (1996)',\n",
            " 'Flintstones, The (1994)',\n",
            " 'Four Rooms (1995)',\n",
            " 'Frighteners, The (1996)',\n",
            " 'Fugitive, The (1993)',\n",
            " 'Gandhi (1982)',\n",
            " 'Ghost (1990)',\n",
            " 'Ghost in the Shell (Kokaku kidotai) (1995)',\n",
            " 'Graduate, The (1967)',\n",
            " 'Grifters, The (1990)',\n",
            " 'Independence Day (ID4) (1996)',\n",
            " 'Indiana Jones and the Last Crusade (1989)',\n",
            " 'Jack (1996)',\n",
            " 'James and the Giant Peach (1996)',\n",
            " 'Jaws (1975)',\n",
            " 'Jumanji (1995)',\n",
            " 'Jurassic Park (1993)',\n",
            " 'Lassie (1994)',\n",
            " 'Lion King, The (1994)',\n",
            " 'Long Kiss Goodnight, The (1996)',\n",
            " 'Mars Attacks! (1996)',\n",
            " 'Mary Poppins (1964)',\n",
            " 'Natural Born Killers (1994)',\n",
            " 'Nightmare Before Christmas, The (1993)',\n",
            " 'Pinocchio (1940)',\n",
            " 'Pretty Woman (1990)',\n",
            " 'Primal Fear (1996)',\n",
            " 'Princess Bride, The (1987)',\n",
            " 'Professional, The (1994)',\n",
            " 'Ransom (1996)',\n",
            " 'Reality Bites (1994)',\n",
            " 'Rear Window (1954)',\n",
            " 'Return of the Jedi (1983)',\n",
            " \"Rich Man's Wife, The (1996)\",\n",
            " 'Robocop 3 (1993)',\n",
            " 'Rock, The (1996)',\n",
            " 'Sabrina (1995)',\n",
            " 'Santa Clause, The (1994)',\n",
            " 'Sense and Sensibility (1995)',\n",
            " 'Shall We Dance? (1996)',\n",
            " 'Sleepless in Seattle (1993)',\n",
            " 'Snow White and the Seven Dwarfs (1937)',\n",
            " 'Some Kind of Wonderful (1987)',\n",
            " 'Sound of Music, The (1965)',\n",
            " 'Speed (1994)',\n",
            " 'Star Trek IV: The Voyage Home (1986)',\n",
            " 'Star Trek: First Contact (1996)',\n",
            " 'Star Trek: The Wrath of Khan (1982)',\n",
            " 'Star Wars (1977)',\n",
            " 'Stealing Beauty (1996)',\n",
            " 'Super Mario Bros. (1993)',\n",
            " 'Swiss Family Robinson (1960)',\n",
            " 'Temptress Moon (Feng Yue) (1996)',\n",
            " 'Terminator 2: Judgment Day (1991)',\n",
            " 'Terminator, The (1984)',\n",
            " 'Three Musketeers, The (1993)',\n",
            " 'Top Gun (1986)',\n",
            " 'Toy Story (1995)',\n",
            " 'True Romance (1993)',\n",
            " 'Truth About Cats & Dogs, The (1996)',\n",
            " 'Twister (1996)',\n",
            " 'Walkabout (1971)',\n",
            " 'Waterworld (1995)',\n",
            " 'When the Cats Away (Chacun cherche son chat) (1996)',\n",
            " 'While You Were Sleeping (1995)',\n",
            " \"William Shakespeare's Romeo and Juliet (1996)\",\n",
            " 'Willy Wonka and the Chocolate Factory (1971)']\n",
            "\n",
            "---------------------------------------------------------------------------------\n",
            "Top 10 Movie recommendations for the User 756 are:\n",
            "['Barcelona (1994)',\n",
            " 'Spy Hard (1996)',\n",
            " 'Made in America (1993)',\n",
            " 'Some Like It Hot (1959)',\n",
            " 'Reluctant Debutante, The (1958)',\n",
            " 'House Arrest (1996)',\n",
            " 'Clean Slate (Coup de Torchon) (1981)',\n",
            " 'George of the Jungle (1997)',\n",
            " 'In the Bleak Midwinter (1995)',\n",
            " 'Three Colors: Red (1994)']\n"
          ]
        }
      ]
    }
  ]
}